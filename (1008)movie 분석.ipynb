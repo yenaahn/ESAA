{
 "cells": [
  {
   "cell_type": "code",
   "execution_count": 3,
   "id": "ef7d3fc9",
   "metadata": {},
   "outputs": [],
   "source": [
    "plt.rc('font', family='Malgun Gothic')\n",
    "plt.rcParams['axes.unicode_minus'] = False"
   ]
  },
  {
   "cell_type": "code",
   "execution_count": 2,
   "id": "c2058ca3",
   "metadata": {},
   "outputs": [],
   "source": [
    "import pandas as pd \n",
    "import numpy as np\n",
    "import seaborn as sns\n",
    "import matplotlib.pyplot as plt\n",
    "plt.rc('font', family='NanumBarunGothic') #matplotlib 한글 깨짐 방지\n",
    "\n",
    "import warnings\n",
    "warnings.filterwarnings(action='ignore')"
   ]
  },
  {
   "cell_type": "code",
   "execution_count": 4,
   "id": "45f32933",
   "metadata": {},
   "outputs": [],
   "source": [
    "train=pd.read_csv(\"C:\\\\Users\\\\faten\\\\Desktop\\\\movies_train.csv\")\n",
    "test=pd.read_csv(\"C:\\\\Users\\\\faten\\\\Desktop\\\\movies_test.csv\")\n",
    "submission=pd.read_csv(\"C:\\\\Users\\\\faten\\\\Desktop\\\\submission.csv\")"
   ]
  },
  {
   "cell_type": "code",
   "execution_count": 5,
   "id": "8545fa96",
   "metadata": {},
   "outputs": [
    {
     "data": {
      "text/html": [
       "<div>\n",
       "<style scoped>\n",
       "    .dataframe tbody tr th:only-of-type {\n",
       "        vertical-align: middle;\n",
       "    }\n",
       "\n",
       "    .dataframe tbody tr th {\n",
       "        vertical-align: top;\n",
       "    }\n",
       "\n",
       "    .dataframe thead th {\n",
       "        text-align: right;\n",
       "    }\n",
       "</style>\n",
       "<table border=\"1\" class=\"dataframe\">\n",
       "  <thead>\n",
       "    <tr style=\"text-align: right;\">\n",
       "      <th></th>\n",
       "      <th>title</th>\n",
       "      <th>distributor</th>\n",
       "      <th>genre</th>\n",
       "      <th>release_time</th>\n",
       "      <th>time</th>\n",
       "      <th>screening_rat</th>\n",
       "      <th>director</th>\n",
       "      <th>dir_prev_bfnum</th>\n",
       "      <th>dir_prev_num</th>\n",
       "      <th>num_staff</th>\n",
       "      <th>num_actor</th>\n",
       "      <th>box_off_num</th>\n",
       "    </tr>\n",
       "  </thead>\n",
       "  <tbody>\n",
       "    <tr>\n",
       "      <th>0</th>\n",
       "      <td>개들의 전쟁</td>\n",
       "      <td>롯데엔터테인먼트</td>\n",
       "      <td>액션</td>\n",
       "      <td>2012-11-22</td>\n",
       "      <td>96</td>\n",
       "      <td>청소년 관람불가</td>\n",
       "      <td>조병옥</td>\n",
       "      <td>NaN</td>\n",
       "      <td>0</td>\n",
       "      <td>91</td>\n",
       "      <td>2</td>\n",
       "      <td>23398</td>\n",
       "    </tr>\n",
       "    <tr>\n",
       "      <th>1</th>\n",
       "      <td>내부자들</td>\n",
       "      <td>(주)쇼박스</td>\n",
       "      <td>느와르</td>\n",
       "      <td>2015-11-19</td>\n",
       "      <td>130</td>\n",
       "      <td>청소년 관람불가</td>\n",
       "      <td>우민호</td>\n",
       "      <td>1161602.50</td>\n",
       "      <td>2</td>\n",
       "      <td>387</td>\n",
       "      <td>3</td>\n",
       "      <td>7072501</td>\n",
       "    </tr>\n",
       "    <tr>\n",
       "      <th>2</th>\n",
       "      <td>은밀하게 위대하게</td>\n",
       "      <td>(주)쇼박스</td>\n",
       "      <td>액션</td>\n",
       "      <td>2013-06-05</td>\n",
       "      <td>123</td>\n",
       "      <td>15세 관람가</td>\n",
       "      <td>장철수</td>\n",
       "      <td>220775.25</td>\n",
       "      <td>4</td>\n",
       "      <td>343</td>\n",
       "      <td>4</td>\n",
       "      <td>6959083</td>\n",
       "    </tr>\n",
       "    <tr>\n",
       "      <th>3</th>\n",
       "      <td>나는 공무원이다</td>\n",
       "      <td>(주)NEW</td>\n",
       "      <td>코미디</td>\n",
       "      <td>2012-07-12</td>\n",
       "      <td>101</td>\n",
       "      <td>전체 관람가</td>\n",
       "      <td>구자홍</td>\n",
       "      <td>23894.00</td>\n",
       "      <td>2</td>\n",
       "      <td>20</td>\n",
       "      <td>6</td>\n",
       "      <td>217866</td>\n",
       "    </tr>\n",
       "    <tr>\n",
       "      <th>4</th>\n",
       "      <td>불량남녀</td>\n",
       "      <td>쇼박스(주)미디어플렉스</td>\n",
       "      <td>코미디</td>\n",
       "      <td>2010-11-04</td>\n",
       "      <td>108</td>\n",
       "      <td>15세 관람가</td>\n",
       "      <td>신근호</td>\n",
       "      <td>1.00</td>\n",
       "      <td>1</td>\n",
       "      <td>251</td>\n",
       "      <td>2</td>\n",
       "      <td>483387</td>\n",
       "    </tr>\n",
       "  </tbody>\n",
       "</table>\n",
       "</div>"
      ],
      "text/plain": [
       "       title   distributor genre release_time  time screening_rat director  \\\n",
       "0     개들의 전쟁      롯데엔터테인먼트    액션   2012-11-22    96      청소년 관람불가      조병옥   \n",
       "1       내부자들        (주)쇼박스   느와르   2015-11-19   130      청소년 관람불가      우민호   \n",
       "2  은밀하게 위대하게        (주)쇼박스    액션   2013-06-05   123       15세 관람가      장철수   \n",
       "3   나는 공무원이다        (주)NEW   코미디   2012-07-12   101        전체 관람가      구자홍   \n",
       "4       불량남녀  쇼박스(주)미디어플렉스   코미디   2010-11-04   108       15세 관람가      신근호   \n",
       "\n",
       "   dir_prev_bfnum  dir_prev_num  num_staff  num_actor  box_off_num  \n",
       "0             NaN             0         91          2        23398  \n",
       "1      1161602.50             2        387          3      7072501  \n",
       "2       220775.25             4        343          4      6959083  \n",
       "3        23894.00             2         20          6       217866  \n",
       "4            1.00             1        251          2       483387  "
      ]
     },
     "execution_count": 5,
     "metadata": {},
     "output_type": "execute_result"
    }
   ],
   "source": [
    "train.head()"
   ]
  },
  {
   "cell_type": "markdown",
   "id": "2b734949",
   "metadata": {},
   "source": [
    "#데이터 살펴보기"
   ]
  },
  {
   "cell_type": "code",
   "execution_count": 6,
   "id": "b4bec509",
   "metadata": {
    "scrolled": false
   },
   "outputs": [
    {
     "name": "stdout",
     "output_type": "stream",
     "text": [
      "<class 'pandas.core.frame.DataFrame'>\n",
      "RangeIndex: 600 entries, 0 to 599\n",
      "Data columns (total 12 columns):\n",
      " #   Column          Non-Null Count  Dtype  \n",
      "---  ------          --------------  -----  \n",
      " 0   title           600 non-null    object \n",
      " 1   distributor     600 non-null    object \n",
      " 2   genre           600 non-null    object \n",
      " 3   release_time    600 non-null    object \n",
      " 4   time            600 non-null    int64  \n",
      " 5   screening_rat   600 non-null    object \n",
      " 6   director        600 non-null    object \n",
      " 7   dir_prev_bfnum  270 non-null    float64\n",
      " 8   dir_prev_num    600 non-null    int64  \n",
      " 9   num_staff       600 non-null    int64  \n",
      " 10  num_actor       600 non-null    int64  \n",
      " 11  box_off_num     600 non-null    int64  \n",
      "dtypes: float64(1), int64(5), object(6)\n",
      "memory usage: 56.4+ KB\n"
     ]
    }
   ],
   "source": [
    "train.info()"
   ]
  },
  {
   "cell_type": "code",
   "execution_count": 7,
   "id": "f2264ae8",
   "metadata": {},
   "outputs": [],
   "source": [
    "pd.options.display.float_format = '{:.1f}'.format"
   ]
  },
  {
   "cell_type": "code",
   "execution_count": 8,
   "id": "2811ad06",
   "metadata": {},
   "outputs": [
    {
     "data": {
      "text/html": [
       "<div>\n",
       "<style scoped>\n",
       "    .dataframe tbody tr th:only-of-type {\n",
       "        vertical-align: middle;\n",
       "    }\n",
       "\n",
       "    .dataframe tbody tr th {\n",
       "        vertical-align: top;\n",
       "    }\n",
       "\n",
       "    .dataframe thead th {\n",
       "        text-align: right;\n",
       "    }\n",
       "</style>\n",
       "<table border=\"1\" class=\"dataframe\">\n",
       "  <thead>\n",
       "    <tr style=\"text-align: right;\">\n",
       "      <th></th>\n",
       "      <th>time</th>\n",
       "      <th>dir_prev_bfnum</th>\n",
       "      <th>dir_prev_num</th>\n",
       "      <th>num_staff</th>\n",
       "      <th>num_actor</th>\n",
       "      <th>box_off_num</th>\n",
       "    </tr>\n",
       "  </thead>\n",
       "  <tbody>\n",
       "    <tr>\n",
       "      <th>count</th>\n",
       "      <td>600.0</td>\n",
       "      <td>270.0</td>\n",
       "      <td>600.0</td>\n",
       "      <td>600.0</td>\n",
       "      <td>600.0</td>\n",
       "      <td>600.0</td>\n",
       "    </tr>\n",
       "    <tr>\n",
       "      <th>mean</th>\n",
       "      <td>100.9</td>\n",
       "      <td>1050442.9</td>\n",
       "      <td>0.9</td>\n",
       "      <td>151.1</td>\n",
       "      <td>3.7</td>\n",
       "      <td>708181.8</td>\n",
       "    </tr>\n",
       "    <tr>\n",
       "      <th>std</th>\n",
       "      <td>18.1</td>\n",
       "      <td>1791408.3</td>\n",
       "      <td>1.2</td>\n",
       "      <td>165.7</td>\n",
       "      <td>2.4</td>\n",
       "      <td>1828005.9</td>\n",
       "    </tr>\n",
       "    <tr>\n",
       "      <th>min</th>\n",
       "      <td>45.0</td>\n",
       "      <td>1.0</td>\n",
       "      <td>0.0</td>\n",
       "      <td>0.0</td>\n",
       "      <td>0.0</td>\n",
       "      <td>1.0</td>\n",
       "    </tr>\n",
       "    <tr>\n",
       "      <th>25%</th>\n",
       "      <td>89.0</td>\n",
       "      <td>20380.0</td>\n",
       "      <td>0.0</td>\n",
       "      <td>17.0</td>\n",
       "      <td>2.0</td>\n",
       "      <td>1297.2</td>\n",
       "    </tr>\n",
       "    <tr>\n",
       "      <th>50%</th>\n",
       "      <td>100.0</td>\n",
       "      <td>478423.6</td>\n",
       "      <td>0.0</td>\n",
       "      <td>82.5</td>\n",
       "      <td>3.0</td>\n",
       "      <td>12591.0</td>\n",
       "    </tr>\n",
       "    <tr>\n",
       "      <th>75%</th>\n",
       "      <td>114.0</td>\n",
       "      <td>1286568.6</td>\n",
       "      <td>2.0</td>\n",
       "      <td>264.0</td>\n",
       "      <td>4.0</td>\n",
       "      <td>479886.8</td>\n",
       "    </tr>\n",
       "    <tr>\n",
       "      <th>max</th>\n",
       "      <td>180.0</td>\n",
       "      <td>17615314.0</td>\n",
       "      <td>5.0</td>\n",
       "      <td>869.0</td>\n",
       "      <td>25.0</td>\n",
       "      <td>14262766.0</td>\n",
       "    </tr>\n",
       "  </tbody>\n",
       "</table>\n",
       "</div>"
      ],
      "text/plain": [
       "       time  dir_prev_bfnum  dir_prev_num  num_staff  num_actor  box_off_num\n",
       "count 600.0           270.0         600.0      600.0      600.0        600.0\n",
       "mean  100.9       1050442.9           0.9      151.1        3.7     708181.8\n",
       "std    18.1       1791408.3           1.2      165.7        2.4    1828005.9\n",
       "min    45.0             1.0           0.0        0.0        0.0          1.0\n",
       "25%    89.0         20380.0           0.0       17.0        2.0       1297.2\n",
       "50%   100.0        478423.6           0.0       82.5        3.0      12591.0\n",
       "75%   114.0       1286568.6           2.0      264.0        4.0     479886.8\n",
       "max   180.0      17615314.0           5.0      869.0       25.0   14262766.0"
      ]
     },
     "execution_count": 8,
     "metadata": {},
     "output_type": "execute_result"
    }
   ],
   "source": [
    "train.describe()"
   ]
  },
  {
   "cell_type": "code",
   "execution_count": 9,
   "id": "4dd4d84f",
   "metadata": {},
   "outputs": [
    {
     "data": {
      "text/html": [
       "<div>\n",
       "<style scoped>\n",
       "    .dataframe tbody tr th:only-of-type {\n",
       "        vertical-align: middle;\n",
       "    }\n",
       "\n",
       "    .dataframe tbody tr th {\n",
       "        vertical-align: top;\n",
       "    }\n",
       "\n",
       "    .dataframe thead th {\n",
       "        text-align: right;\n",
       "    }\n",
       "</style>\n",
       "<table border=\"1\" class=\"dataframe\">\n",
       "  <thead>\n",
       "    <tr style=\"text-align: right;\">\n",
       "      <th></th>\n",
       "      <th>time</th>\n",
       "      <th>dir_prev_bfnum</th>\n",
       "      <th>dir_prev_num</th>\n",
       "      <th>num_staff</th>\n",
       "      <th>num_actor</th>\n",
       "    </tr>\n",
       "  </thead>\n",
       "  <tbody>\n",
       "    <tr>\n",
       "      <th>count</th>\n",
       "      <td>243.0</td>\n",
       "      <td>107.0</td>\n",
       "      <td>243.0</td>\n",
       "      <td>243.0</td>\n",
       "      <td>243.0</td>\n",
       "    </tr>\n",
       "    <tr>\n",
       "      <th>mean</th>\n",
       "      <td>109.8</td>\n",
       "      <td>891669.5</td>\n",
       "      <td>0.9</td>\n",
       "      <td>159.3</td>\n",
       "      <td>3.5</td>\n",
       "    </tr>\n",
       "    <tr>\n",
       "      <th>std</th>\n",
       "      <td>124.0</td>\n",
       "      <td>1217341.5</td>\n",
       "      <td>1.2</td>\n",
       "      <td>163.0</td>\n",
       "      <td>2.1</td>\n",
       "    </tr>\n",
       "    <tr>\n",
       "      <th>min</th>\n",
       "      <td>40.0</td>\n",
       "      <td>34.0</td>\n",
       "      <td>0.0</td>\n",
       "      <td>0.0</td>\n",
       "      <td>0.0</td>\n",
       "    </tr>\n",
       "    <tr>\n",
       "      <th>25%</th>\n",
       "      <td>91.0</td>\n",
       "      <td>62502.0</td>\n",
       "      <td>0.0</td>\n",
       "      <td>18.0</td>\n",
       "      <td>2.0</td>\n",
       "    </tr>\n",
       "    <tr>\n",
       "      <th>50%</th>\n",
       "      <td>104.0</td>\n",
       "      <td>493120.0</td>\n",
       "      <td>0.0</td>\n",
       "      <td>105.0</td>\n",
       "      <td>3.0</td>\n",
       "    </tr>\n",
       "    <tr>\n",
       "      <th>75%</th>\n",
       "      <td>114.5</td>\n",
       "      <td>1080849.6</td>\n",
       "      <td>1.0</td>\n",
       "      <td>282.0</td>\n",
       "      <td>4.0</td>\n",
       "    </tr>\n",
       "    <tr>\n",
       "      <th>max</th>\n",
       "      <td>2015.0</td>\n",
       "      <td>6173099.5</td>\n",
       "      <td>6.0</td>\n",
       "      <td>776.0</td>\n",
       "      <td>16.0</td>\n",
       "    </tr>\n",
       "  </tbody>\n",
       "</table>\n",
       "</div>"
      ],
      "text/plain": [
       "        time  dir_prev_bfnum  dir_prev_num  num_staff  num_actor\n",
       "count  243.0           107.0         243.0      243.0      243.0\n",
       "mean   109.8        891669.5           0.9      159.3        3.5\n",
       "std    124.0       1217341.5           1.2      163.0        2.1\n",
       "min     40.0            34.0           0.0        0.0        0.0\n",
       "25%     91.0         62502.0           0.0       18.0        2.0\n",
       "50%    104.0        493120.0           0.0      105.0        3.0\n",
       "75%    114.5       1080849.6           1.0      282.0        4.0\n",
       "max   2015.0       6173099.5           6.0      776.0       16.0"
      ]
     },
     "execution_count": 9,
     "metadata": {},
     "output_type": "execute_result"
    }
   ],
   "source": [
    "test.describe()"
   ]
  },
  {
   "cell_type": "markdown",
   "id": "9f05fc26",
   "metadata": {},
   "source": [
    "#결측치 확인 및 데이터 전처리"
   ]
  },
  {
   "cell_type": "code",
   "execution_count": 10,
   "id": "5e350676",
   "metadata": {},
   "outputs": [
    {
     "data": {
      "text/plain": [
       "title               0\n",
       "distributor         0\n",
       "genre               0\n",
       "release_time        0\n",
       "time                0\n",
       "screening_rat       0\n",
       "director            0\n",
       "dir_prev_bfnum    330\n",
       "dir_prev_num        0\n",
       "num_staff           0\n",
       "num_actor           0\n",
       "box_off_num         0\n",
       "dtype: int64"
      ]
     },
     "execution_count": 10,
     "metadata": {},
     "output_type": "execute_result"
    }
   ],
   "source": [
    "train.isna().sum()"
   ]
  },
  {
   "cell_type": "code",
   "execution_count": 11,
   "id": "d4d1296a",
   "metadata": {},
   "outputs": [
    {
     "data": {
      "text/html": [
       "<div>\n",
       "<style scoped>\n",
       "    .dataframe tbody tr th:only-of-type {\n",
       "        vertical-align: middle;\n",
       "    }\n",
       "\n",
       "    .dataframe tbody tr th {\n",
       "        vertical-align: top;\n",
       "    }\n",
       "\n",
       "    .dataframe thead th {\n",
       "        text-align: right;\n",
       "    }\n",
       "</style>\n",
       "<table border=\"1\" class=\"dataframe\">\n",
       "  <thead>\n",
       "    <tr style=\"text-align: right;\">\n",
       "      <th></th>\n",
       "      <th>title</th>\n",
       "      <th>distributor</th>\n",
       "      <th>genre</th>\n",
       "      <th>release_time</th>\n",
       "      <th>time</th>\n",
       "      <th>screening_rat</th>\n",
       "      <th>director</th>\n",
       "      <th>dir_prev_bfnum</th>\n",
       "      <th>dir_prev_num</th>\n",
       "      <th>num_staff</th>\n",
       "      <th>num_actor</th>\n",
       "      <th>box_off_num</th>\n",
       "    </tr>\n",
       "  </thead>\n",
       "  <tbody>\n",
       "    <tr>\n",
       "      <th>0</th>\n",
       "      <td>개들의 전쟁</td>\n",
       "      <td>롯데엔터테인먼트</td>\n",
       "      <td>액션</td>\n",
       "      <td>2012-11-22</td>\n",
       "      <td>96</td>\n",
       "      <td>청소년 관람불가</td>\n",
       "      <td>조병옥</td>\n",
       "      <td>NaN</td>\n",
       "      <td>0</td>\n",
       "      <td>91</td>\n",
       "      <td>2</td>\n",
       "      <td>23398</td>\n",
       "    </tr>\n",
       "    <tr>\n",
       "      <th>6</th>\n",
       "      <td>길위에서</td>\n",
       "      <td>백두대간</td>\n",
       "      <td>다큐멘터리</td>\n",
       "      <td>2013-05-23</td>\n",
       "      <td>104</td>\n",
       "      <td>전체 관람가</td>\n",
       "      <td>이창재</td>\n",
       "      <td>NaN</td>\n",
       "      <td>0</td>\n",
       "      <td>32</td>\n",
       "      <td>5</td>\n",
       "      <td>53526</td>\n",
       "    </tr>\n",
       "    <tr>\n",
       "      <th>8</th>\n",
       "      <td>1789, 바스티유의 연인들</td>\n",
       "      <td>유니버설픽쳐스인터내셔널코리아</td>\n",
       "      <td>뮤지컬</td>\n",
       "      <td>2014-09-18</td>\n",
       "      <td>129</td>\n",
       "      <td>전체 관람가</td>\n",
       "      <td>정성복</td>\n",
       "      <td>NaN</td>\n",
       "      <td>0</td>\n",
       "      <td>3</td>\n",
       "      <td>5</td>\n",
       "      <td>4778</td>\n",
       "    </tr>\n",
       "  </tbody>\n",
       "</table>\n",
       "</div>"
      ],
      "text/plain": [
       "             title      distributor  genre release_time  time screening_rat  \\\n",
       "0           개들의 전쟁         롯데엔터테인먼트     액션   2012-11-22    96      청소년 관람불가   \n",
       "6             길위에서             백두대간  다큐멘터리   2013-05-23   104        전체 관람가   \n",
       "8  1789, 바스티유의 연인들  유니버설픽쳐스인터내셔널코리아    뮤지컬   2014-09-18   129        전체 관람가   \n",
       "\n",
       "  director  dir_prev_bfnum  dir_prev_num  num_staff  num_actor  box_off_num  \n",
       "0      조병옥             NaN             0         91          2        23398  \n",
       "6      이창재             NaN             0         32          5        53526  \n",
       "8      정성복             NaN             0          3          5         4778  "
      ]
     },
     "execution_count": 11,
     "metadata": {},
     "output_type": "execute_result"
    }
   ],
   "source": [
    "train[train['dir_prev_bfnum'].isna()].head(3)"
   ]
  },
  {
   "cell_type": "code",
   "execution_count": 12,
   "id": "4e5547e1",
   "metadata": {},
   "outputs": [],
   "source": [
    "train['dir_prev_bfnum'].fillna(0, inplace=True)\n"
   ]
  },
  {
   "cell_type": "code",
   "execution_count": 13,
   "id": "92e0d246",
   "metadata": {},
   "outputs": [],
   "source": [
    "train['release_time']=pd.to_datetime(train['release_time'])\n"
   ]
  },
  {
   "cell_type": "markdown",
   "id": "7fbaa2b1",
   "metadata": {},
   "source": [
    "# 데이터 시각화 및 분석"
   ]
  },
  {
   "cell_type": "markdown",
   "id": "09d737ec",
   "metadata": {},
   "source": [
    "### 1)배급사 중 관객수가 제일 많은 곳: 가장 많은 관객을 동원한 배급사는 CJ E&M이라는 것을 알 수 있다. 추가적으로, 상위 5개 배급사를 bar plot으로 나타내었다."
   ]
  },
  {
   "cell_type": "code",
   "execution_count": 14,
   "id": "be86d9c9",
   "metadata": {
    "scrolled": true
   },
   "outputs": [
    {
     "data": {
      "text/plain": [
       "<AxesSubplot:xlabel='distributor'>"
      ]
     },
     "execution_count": 14,
     "metadata": {},
     "output_type": "execute_result"
    },
    {
     "data": {
      "image/png": "[encoded data removed]",
      "text/plain": [
       "<Figure size 432x288 with 1 Axes>"
      ]
     },
     "metadata": {
      "needs_background": "light"
     },
     "output_type": "display_data"
    }
   ],
   "source": [
    "train[['distributor','box_off_num']].groupby('distributor').mean().sort_values(by='box_off_num',ascending=False)\n",
    "top5=train[['distributor','box_off_num']].groupby('distributor').mean().sort_values(by='box_off_num',ascending=False).head(5)\n",
    "top5.plot(kind='bar')"
   ]
  },
  {
   "cell_type": "markdown",
   "id": "a4ff9ef6",
   "metadata": {},
   "source": [
    "### 2)장르별 관객 동원수: 느와르, 액션, SF 순으로 관객수가 많다. "
   ]
  },
  {
   "cell_type": "code",
   "execution_count": 15,
   "id": "66310cf4",
   "metadata": {},
   "outputs": [
    {
     "data": {
      "text/plain": [
       "<AxesSubplot:xlabel='genre'>"
      ]
     },
     "execution_count": 15,
     "metadata": {},
     "output_type": "execute_result"
    },
    {
     "data": {
      "image/png": "[encoded data removed]",
      "text/plain": [
       "<Figure size 432x288 with 1 Axes>"
      ]
     },
     "metadata": {
      "needs_background": "light"
     },
     "output_type": "display_data"
    },
    {
     "data": {
      "image/png": "[encoded data removed]",
      "text/plain": [
       "<Figure size 432x288 with 1 Axes>"
      ]
     },
     "metadata": {
      "needs_background": "light"
     },
     "output_type": "display_data"
    }
   ],
   "source": [
    "baxplot=plt.subplots()\n",
    "boxplot=sns.boxplot(x='genre', y='box_off_num', data=train)\n",
    "train[['genre','box_off_num']].groupby('genre').mean().sort_values(by='genre',ascending=False)\n",
    "train[['genre','box_off_num']].groupby('genre').mean().plot(kind='bar')"
   ]
  },
  {
   "cell_type": "markdown",
   "id": "e5377008",
   "metadata": {},
   "source": [
    "### 3)월별에 따른 관객수의 차이: 연휴가 많은 1,7,8,12월에 가장 관객수가 많다."
   ]
  },
  {
   "cell_type": "code",
   "execution_count": 45,
   "id": "0cd09aab",
   "metadata": {},
   "outputs": [
    {
     "data": {
      "text/plain": [
       "<AxesSubplot:xlabel='release_month'>"
      ]
     },
     "execution_count": 45,
     "metadata": {},
     "output_type": "execute_result"
    },
    {
     "data": {
      "image/png": "[encoded data removed]",
      "text/plain": [
       "<Figure size 432x288 with 1 Axes>"
      ]
     },
     "metadata": {
      "needs_background": "light"
     },
     "output_type": "display_data"
    },
    {
     "data": {
      "image/png": "[encoded data removed]",
      "text/plain": [
       "<Figure size 432x288 with 1 Axes>"
      ]
     },
     "metadata": {
      "needs_background": "light"
     },
     "output_type": "display_data"
    }
   ],
   "source": [
    "train['release_month']=train['release_time'].dt.month   #월\n",
    "train[['release_month','box_off_num']].groupby('release_month').mean().sort_values('box_off_num', ascending=False)\n",
    "baxplot=plt.subplots()\n",
    "boxplot=sns.boxplot(x='release_month', y='box_off_num', data=train)\n",
    "train[['release_month','box_off_num']].groupby('release_month').mean().plot(kind='bar')"
   ]
  },
  {
   "cell_type": "markdown",
   "id": "1976c69d",
   "metadata": {},
   "source": [
    "### 4)장르별 스태프 동원수: 액션, 느와르, 드라마 순으로 스태프를 많이 쓰고, 뮤지컬이 가장 적다."
   ]
  },
  {
   "cell_type": "code",
   "execution_count": 46,
   "id": "f91b322a",
   "metadata": {},
   "outputs": [
    {
     "data": {
      "text/plain": [
       "<AxesSubplot:xlabel='genre'>"
      ]
     },
     "execution_count": 46,
     "metadata": {},
     "output_type": "execute_result"
    },
    {
     "data": {
      "image/png": "[encoded data removed]",
      "text/plain": [
       "<Figure size 432x288 with 1 Axes>"
      ]
     },
     "metadata": {
      "needs_background": "light"
     },
     "output_type": "display_data"
    }
   ],
   "source": [
    "train[['genre','num_staff']].groupby('genre').mean().plot(kind=\"line\")"
   ]
  },
  {
   "cell_type": "markdown",
   "id": "a0b817e5",
   "metadata": {},
   "source": [
    "### 5) 감독의 전작품수가 관객수에 미치는 영향: 감독의 전작품수가 관객수에는 크게 영향을 미치지 않는 것으로 나타났다."
   ]
  },
  {
   "cell_type": "code",
   "execution_count": 52,
   "id": "e17cacce",
   "metadata": {},
   "outputs": [
    {
     "data": {
      "text/plain": [
       "<AxesSubplot:xlabel='dir_prev_bfnum'>"
      ]
     },
     "execution_count": 52,
     "metadata": {},
     "output_type": "execute_result"
    },
    {
     "data": {
      "image/png": "[encoded data removed]",
      "text/plain": [
       "<Figure size 432x288 with 1 Axes>"
      ]
     },
     "metadata": {
      "needs_background": "light"
     },
     "output_type": "display_data"
    }
   ],
   "source": [
    "train[[\"dir_prev_bfnum\",\"box_off_num\"]].groupby(\"dir_prev_bfnum\").mean().sort_values(by=\"dir_prev_bfnum\",ascending=True).plot(kind=\"line\")"
   ]
  },
  {
   "cell_type": "code",
   "execution_count": null,
   "id": "7f5a4667",
   "metadata": {},
   "outputs": [],
   "source": []
  }
 ],
 "metadata": {
  "kernelspec": {
   "display_name": "Python 3",
   "language": "python",
   "name": "python3"
  },
  "language_info": {
   "codemirror_mode": {
    "name": "ipython",
    "version": 3
   },
   "file_extension": ".py",
   "mimetype": "text/x-python",
   "name": "python",
   "nbconvert_exporter": "python",
   "pygments_lexer": "ipython3",
   "version": "3.8.8"
  }
 },
 "nbformat": 4,
 "nbformat_minor": 5
}
