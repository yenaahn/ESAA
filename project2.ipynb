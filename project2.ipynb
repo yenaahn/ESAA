{
 "cells": [
  {
   "cell_type": "markdown",
   "id": "dc2f7d0a",
   "metadata": {},
   "source": [
    "# 데이터"
   ]
  },
  {
   "cell_type": "code",
   "execution_count": 66,
   "id": "0624b470",
   "metadata": {},
   "outputs": [],
   "source": [
    "import pandas as pd \n",
    "import numpy as np\n",
    "import seaborn as sns\n",
    "import matplotlib.pyplot as plt\n",
    "plt.rc('font', family='NanumBarunGothic') #matplotlib 한글 깨짐 방지\n",
    "\n",
    "import warnings\n",
    "warnings.filterwarnings(action='ignore')"
   ]
  },
  {
   "cell_type": "code",
   "execution_count": 67,
   "id": "58adcb38",
   "metadata": {},
   "outputs": [],
   "source": [
    "plt.rc('font', family='Malgun Gothic')\n",
    "plt.rcParams['axes.unicode_minus'] = False"
   ]
  },
  {
   "cell_type": "code",
   "execution_count": 70,
   "id": "77fe7036",
   "metadata": {},
   "outputs": [],
   "source": [
    "# 데이터 불러오기\n",
    "train=pd.read_csv(\"C:\\\\Users\\\\faten\\\\Desktop\\\\movies_train.csv\")\n",
    "test=pd.read_csv(\"C:\\\\Users\\\\faten\\\\Desktop\\\\movies_test.csv\")\n",
    "submission=pd.read_csv(\"C:\\\\Users\\\\faten\\\\Desktop\\\\submission.csv\")"
   ]
  },
  {
   "cell_type": "markdown",
   "id": "badb1a54",
   "metadata": {},
   "source": [
    "# 1) 일부 데이터 미리보기"
   ]
  },
  {
   "cell_type": "code",
   "execution_count": 71,
   "id": "c6be34d5",
   "metadata": {},
   "outputs": [
    {
     "data": {
      "text/html": [
       "<div>\n",
       "<style scoped>\n",
       "    .dataframe tbody tr th:only-of-type {\n",
       "        vertical-align: middle;\n",
       "    }\n",
       "\n",
       "    .dataframe tbody tr th {\n",
       "        vertical-align: top;\n",
       "    }\n",
       "\n",
       "    .dataframe thead th {\n",
       "        text-align: right;\n",
       "    }\n",
       "</style>\n",
       "<table border=\"1\" class=\"dataframe\">\n",
       "  <thead>\n",
       "    <tr style=\"text-align: right;\">\n",
       "      <th></th>\n",
       "      <th>title</th>\n",
       "      <th>distributor</th>\n",
       "      <th>genre</th>\n",
       "      <th>release_time</th>\n",
       "      <th>time</th>\n",
       "      <th>screening_rat</th>\n",
       "      <th>director</th>\n",
       "      <th>dir_prev_bfnum</th>\n",
       "      <th>dir_prev_num</th>\n",
       "      <th>num_staff</th>\n",
       "      <th>num_actor</th>\n",
       "      <th>box_off_num</th>\n",
       "    </tr>\n",
       "  </thead>\n",
       "  <tbody>\n",
       "    <tr>\n",
       "      <th>0</th>\n",
       "      <td>개들의 전쟁</td>\n",
       "      <td>롯데엔터테인먼트</td>\n",
       "      <td>액션</td>\n",
       "      <td>2012-11-22</td>\n",
       "      <td>96</td>\n",
       "      <td>청소년 관람불가</td>\n",
       "      <td>조병옥</td>\n",
       "      <td>NaN</td>\n",
       "      <td>0</td>\n",
       "      <td>91</td>\n",
       "      <td>2</td>\n",
       "      <td>23398</td>\n",
       "    </tr>\n",
       "    <tr>\n",
       "      <th>1</th>\n",
       "      <td>내부자들</td>\n",
       "      <td>(주)쇼박스</td>\n",
       "      <td>느와르</td>\n",
       "      <td>2015-11-19</td>\n",
       "      <td>130</td>\n",
       "      <td>청소년 관람불가</td>\n",
       "      <td>우민호</td>\n",
       "      <td>1161602.5</td>\n",
       "      <td>2</td>\n",
       "      <td>387</td>\n",
       "      <td>3</td>\n",
       "      <td>7072501</td>\n",
       "    </tr>\n",
       "    <tr>\n",
       "      <th>2</th>\n",
       "      <td>은밀하게 위대하게</td>\n",
       "      <td>(주)쇼박스</td>\n",
       "      <td>액션</td>\n",
       "      <td>2013-06-05</td>\n",
       "      <td>123</td>\n",
       "      <td>15세 관람가</td>\n",
       "      <td>장철수</td>\n",
       "      <td>220775.2</td>\n",
       "      <td>4</td>\n",
       "      <td>343</td>\n",
       "      <td>4</td>\n",
       "      <td>6959083</td>\n",
       "    </tr>\n",
       "    <tr>\n",
       "      <th>3</th>\n",
       "      <td>나는 공무원이다</td>\n",
       "      <td>(주)NEW</td>\n",
       "      <td>코미디</td>\n",
       "      <td>2012-07-12</td>\n",
       "      <td>101</td>\n",
       "      <td>전체 관람가</td>\n",
       "      <td>구자홍</td>\n",
       "      <td>23894.0</td>\n",
       "      <td>2</td>\n",
       "      <td>20</td>\n",
       "      <td>6</td>\n",
       "      <td>217866</td>\n",
       "    </tr>\n",
       "    <tr>\n",
       "      <th>4</th>\n",
       "      <td>불량남녀</td>\n",
       "      <td>쇼박스(주)미디어플렉스</td>\n",
       "      <td>코미디</td>\n",
       "      <td>2010-11-04</td>\n",
       "      <td>108</td>\n",
       "      <td>15세 관람가</td>\n",
       "      <td>신근호</td>\n",
       "      <td>1.0</td>\n",
       "      <td>1</td>\n",
       "      <td>251</td>\n",
       "      <td>2</td>\n",
       "      <td>483387</td>\n",
       "    </tr>\n",
       "  </tbody>\n",
       "</table>\n",
       "</div>"
      ],
      "text/plain": [
       "       title   distributor genre release_time  time screening_rat director  \\\n",
       "0     개들의 전쟁      롯데엔터테인먼트    액션   2012-11-22    96      청소년 관람불가      조병옥   \n",
       "1       내부자들        (주)쇼박스   느와르   2015-11-19   130      청소년 관람불가      우민호   \n",
       "2  은밀하게 위대하게        (주)쇼박스    액션   2013-06-05   123       15세 관람가      장철수   \n",
       "3   나는 공무원이다        (주)NEW   코미디   2012-07-12   101        전체 관람가      구자홍   \n",
       "4       불량남녀  쇼박스(주)미디어플렉스   코미디   2010-11-04   108       15세 관람가      신근호   \n",
       "\n",
       "   dir_prev_bfnum  dir_prev_num  num_staff  num_actor  box_off_num  \n",
       "0             NaN             0         91          2        23398  \n",
       "1       1161602.5             2        387          3      7072501  \n",
       "2        220775.2             4        343          4      6959083  \n",
       "3         23894.0             2         20          6       217866  \n",
       "4             1.0             1        251          2       483387  "
      ]
     },
     "execution_count": 71,
     "metadata": {},
     "output_type": "execute_result"
    }
   ],
   "source": [
    "train.head()"
   ]
  },
  {
   "cell_type": "code",
   "execution_count": 72,
   "id": "a850bad7",
   "metadata": {},
   "outputs": [
    {
     "data": {
      "text/html": [
       "<div>\n",
       "<style scoped>\n",
       "    .dataframe tbody tr th:only-of-type {\n",
       "        vertical-align: middle;\n",
       "    }\n",
       "\n",
       "    .dataframe tbody tr th {\n",
       "        vertical-align: top;\n",
       "    }\n",
       "\n",
       "    .dataframe thead th {\n",
       "        text-align: right;\n",
       "    }\n",
       "</style>\n",
       "<table border=\"1\" class=\"dataframe\">\n",
       "  <thead>\n",
       "    <tr style=\"text-align: right;\">\n",
       "      <th></th>\n",
       "      <th>title</th>\n",
       "      <th>distributor</th>\n",
       "      <th>genre</th>\n",
       "      <th>release_time</th>\n",
       "      <th>time</th>\n",
       "      <th>screening_rat</th>\n",
       "      <th>director</th>\n",
       "      <th>dir_prev_bfnum</th>\n",
       "      <th>dir_prev_num</th>\n",
       "      <th>num_staff</th>\n",
       "      <th>num_actor</th>\n",
       "    </tr>\n",
       "  </thead>\n",
       "  <tbody>\n",
       "    <tr>\n",
       "      <th>0</th>\n",
       "      <td>용서는 없다</td>\n",
       "      <td>시네마서비스</td>\n",
       "      <td>느와르</td>\n",
       "      <td>2010-01-07</td>\n",
       "      <td>125</td>\n",
       "      <td>청소년 관람불가</td>\n",
       "      <td>김형준</td>\n",
       "      <td>300529.0</td>\n",
       "      <td>2</td>\n",
       "      <td>304</td>\n",
       "      <td>3</td>\n",
       "    </tr>\n",
       "    <tr>\n",
       "      <th>1</th>\n",
       "      <td>아빠가 여자를 좋아해</td>\n",
       "      <td>(주)쇼박스</td>\n",
       "      <td>멜로/로맨스</td>\n",
       "      <td>2010-01-14</td>\n",
       "      <td>113</td>\n",
       "      <td>12세 관람가</td>\n",
       "      <td>이광재</td>\n",
       "      <td>342700.2</td>\n",
       "      <td>4</td>\n",
       "      <td>275</td>\n",
       "      <td>3</td>\n",
       "    </tr>\n",
       "    <tr>\n",
       "      <th>2</th>\n",
       "      <td>하모니</td>\n",
       "      <td>CJ 엔터테인먼트</td>\n",
       "      <td>드라마</td>\n",
       "      <td>2010-01-28</td>\n",
       "      <td>115</td>\n",
       "      <td>12세 관람가</td>\n",
       "      <td>강대규</td>\n",
       "      <td>4206610.7</td>\n",
       "      <td>3</td>\n",
       "      <td>419</td>\n",
       "      <td>7</td>\n",
       "    </tr>\n",
       "    <tr>\n",
       "      <th>3</th>\n",
       "      <td>의형제</td>\n",
       "      <td>(주)쇼박스</td>\n",
       "      <td>액션</td>\n",
       "      <td>2010-02-04</td>\n",
       "      <td>116</td>\n",
       "      <td>15세 관람가</td>\n",
       "      <td>장훈</td>\n",
       "      <td>691342.0</td>\n",
       "      <td>2</td>\n",
       "      <td>408</td>\n",
       "      <td>2</td>\n",
       "    </tr>\n",
       "    <tr>\n",
       "      <th>4</th>\n",
       "      <td>평행 이론</td>\n",
       "      <td>CJ 엔터테인먼트</td>\n",
       "      <td>공포</td>\n",
       "      <td>2010-02-18</td>\n",
       "      <td>110</td>\n",
       "      <td>15세 관람가</td>\n",
       "      <td>권호영</td>\n",
       "      <td>31738.0</td>\n",
       "      <td>1</td>\n",
       "      <td>380</td>\n",
       "      <td>1</td>\n",
       "    </tr>\n",
       "  </tbody>\n",
       "</table>\n",
       "</div>"
      ],
      "text/plain": [
       "         title distributor   genre release_time  time screening_rat director  \\\n",
       "0       용서는 없다      시네마서비스     느와르   2010-01-07   125      청소년 관람불가      김형준   \n",
       "1  아빠가 여자를 좋아해      (주)쇼박스  멜로/로맨스   2010-01-14   113       12세 관람가      이광재   \n",
       "2          하모니   CJ 엔터테인먼트     드라마   2010-01-28   115       12세 관람가      강대규   \n",
       "3          의형제      (주)쇼박스      액션   2010-02-04   116       15세 관람가       장훈   \n",
       "4        평행 이론   CJ 엔터테인먼트      공포   2010-02-18   110       15세 관람가      권호영   \n",
       "\n",
       "   dir_prev_bfnum  dir_prev_num  num_staff  num_actor  \n",
       "0        300529.0             2        304          3  \n",
       "1        342700.2             4        275          3  \n",
       "2       4206610.7             3        419          7  \n",
       "3        691342.0             2        408          2  \n",
       "4         31738.0             1        380          1  "
      ]
     },
     "execution_count": 72,
     "metadata": {},
     "output_type": "execute_result"
    }
   ],
   "source": [
    "test.head()"
   ]
  },
  {
   "cell_type": "code",
   "execution_count": 73,
   "id": "a31c78b9",
   "metadata": {},
   "outputs": [
    {
     "data": {
      "text/html": [
       "<div>\n",
       "<style scoped>\n",
       "    .dataframe tbody tr th:only-of-type {\n",
       "        vertical-align: middle;\n",
       "    }\n",
       "\n",
       "    .dataframe tbody tr th {\n",
       "        vertical-align: top;\n",
       "    }\n",
       "\n",
       "    .dataframe thead th {\n",
       "        text-align: right;\n",
       "    }\n",
       "</style>\n",
       "<table border=\"1\" class=\"dataframe\">\n",
       "  <thead>\n",
       "    <tr style=\"text-align: right;\">\n",
       "      <th></th>\n",
       "      <th>title</th>\n",
       "      <th>box_off_num</th>\n",
       "    </tr>\n",
       "  </thead>\n",
       "  <tbody>\n",
       "    <tr>\n",
       "      <th>0</th>\n",
       "      <td>용서는 없다</td>\n",
       "      <td>0</td>\n",
       "    </tr>\n",
       "    <tr>\n",
       "      <th>1</th>\n",
       "      <td>아빠가 여자를 좋아해</td>\n",
       "      <td>0</td>\n",
       "    </tr>\n",
       "    <tr>\n",
       "      <th>2</th>\n",
       "      <td>하모니</td>\n",
       "      <td>0</td>\n",
       "    </tr>\n",
       "    <tr>\n",
       "      <th>3</th>\n",
       "      <td>의형제</td>\n",
       "      <td>0</td>\n",
       "    </tr>\n",
       "    <tr>\n",
       "      <th>4</th>\n",
       "      <td>평행 이론</td>\n",
       "      <td>0</td>\n",
       "    </tr>\n",
       "  </tbody>\n",
       "</table>\n",
       "</div>"
      ],
      "text/plain": [
       "         title  box_off_num\n",
       "0       용서는 없다            0\n",
       "1  아빠가 여자를 좋아해            0\n",
       "2          하모니            0\n",
       "3          의형제            0\n",
       "4        평행 이론            0"
      ]
     },
     "execution_count": 73,
     "metadata": {},
     "output_type": "execute_result"
    }
   ],
   "source": [
    "submission.head()"
   ]
  },
  {
   "cell_type": "markdown",
   "id": "7ac83632",
   "metadata": {},
   "source": [
    "# 2)데이터 요약"
   ]
  },
  {
   "cell_type": "code",
   "execution_count": 12,
   "id": "fddefd45",
   "metadata": {},
   "outputs": [
    {
     "name": "stdout",
     "output_type": "stream",
     "text": [
      "(243, 11)\n",
      "<class 'pandas.core.frame.DataFrame'>\n",
      "RangeIndex: 243 entries, 0 to 242\n",
      "Data columns (total 11 columns):\n",
      " #   Column          Non-Null Count  Dtype  \n",
      "---  ------          --------------  -----  \n",
      " 0   title           243 non-null    object \n",
      " 1   distributor     243 non-null    object \n",
      " 2   genre           243 non-null    object \n",
      " 3   release_time    243 non-null    object \n",
      " 4   time            243 non-null    int64  \n",
      " 5   screening_rat   243 non-null    object \n",
      " 6   director        243 non-null    object \n",
      " 7   dir_prev_bfnum  107 non-null    float64\n",
      " 8   dir_prev_num    243 non-null    int64  \n",
      " 9   num_staff       243 non-null    int64  \n",
      " 10  num_actor       243 non-null    int64  \n",
      "dtypes: float64(1), int64(4), object(6)\n",
      "memory usage: 21.0+ KB\n"
     ]
    }
   ],
   "source": [
    "print(train.shape)\n",
    "train.info()"
   ]
  },
  {
   "cell_type": "code",
   "execution_count": 14,
   "id": "f81e5b75",
   "metadata": {},
   "outputs": [
    {
     "name": "stdout",
     "output_type": "stream",
     "text": [
      "(243, 11)\n",
      "<class 'pandas.core.frame.DataFrame'>\n",
      "RangeIndex: 243 entries, 0 to 242\n",
      "Data columns (total 11 columns):\n",
      " #   Column          Non-Null Count  Dtype  \n",
      "---  ------          --------------  -----  \n",
      " 0   title           243 non-null    object \n",
      " 1   distributor     243 non-null    object \n",
      " 2   genre           243 non-null    object \n",
      " 3   release_time    243 non-null    object \n",
      " 4   time            243 non-null    int64  \n",
      " 5   screening_rat   243 non-null    object \n",
      " 6   director        243 non-null    object \n",
      " 7   dir_prev_bfnum  107 non-null    float64\n",
      " 8   dir_prev_num    243 non-null    int64  \n",
      " 9   num_staff       243 non-null    int64  \n",
      " 10  num_actor       243 non-null    int64  \n",
      "dtypes: float64(1), int64(4), object(6)\n",
      "memory usage: 21.0+ KB\n"
     ]
    }
   ],
   "source": [
    "print(test.shape)\n",
    "test.info()"
   ]
  },
  {
   "cell_type": "code",
   "execution_count": 13,
   "id": "bd944d58",
   "metadata": {},
   "outputs": [
    {
     "name": "stdout",
     "output_type": "stream",
     "text": [
      "(243, 2)\n",
      "<class 'pandas.core.frame.DataFrame'>\n",
      "RangeIndex: 243 entries, 0 to 242\n",
      "Data columns (total 2 columns):\n",
      " #   Column       Non-Null Count  Dtype \n",
      "---  ------       --------------  ----- \n",
      " 0   title        243 non-null    object\n",
      " 1   box_off_num  243 non-null    int64 \n",
      "dtypes: int64(1), object(1)\n",
      "memory usage: 3.9+ KB\n"
     ]
    }
   ],
   "source": [
    "print(submission.shape)\n",
    "submission.info()"
   ]
  },
  {
   "cell_type": "markdown",
   "id": "5d2d3263",
   "metadata": {},
   "source": [
    "# 3)데이터의 요약 통계량 확인"
   ]
  },
  {
   "cell_type": "code",
   "execution_count": 15,
   "id": "11e13811",
   "metadata": {},
   "outputs": [],
   "source": [
    "pd.options.display.float_format = '{:.1f}'.format"
   ]
  },
  {
   "cell_type": "code",
   "execution_count": 16,
   "id": "f0e14721",
   "metadata": {},
   "outputs": [
    {
     "data": {
      "text/html": [
       "<div>\n",
       "<style scoped>\n",
       "    .dataframe tbody tr th:only-of-type {\n",
       "        vertical-align: middle;\n",
       "    }\n",
       "\n",
       "    .dataframe tbody tr th {\n",
       "        vertical-align: top;\n",
       "    }\n",
       "\n",
       "    .dataframe thead th {\n",
       "        text-align: right;\n",
       "    }\n",
       "</style>\n",
       "<table border=\"1\" class=\"dataframe\">\n",
       "  <thead>\n",
       "    <tr style=\"text-align: right;\">\n",
       "      <th></th>\n",
       "      <th>time</th>\n",
       "      <th>dir_prev_bfnum</th>\n",
       "      <th>dir_prev_num</th>\n",
       "      <th>num_staff</th>\n",
       "      <th>num_actor</th>\n",
       "    </tr>\n",
       "  </thead>\n",
       "  <tbody>\n",
       "    <tr>\n",
       "      <th>count</th>\n",
       "      <td>243.0</td>\n",
       "      <td>107.0</td>\n",
       "      <td>243.0</td>\n",
       "      <td>243.0</td>\n",
       "      <td>243.0</td>\n",
       "    </tr>\n",
       "    <tr>\n",
       "      <th>mean</th>\n",
       "      <td>109.8</td>\n",
       "      <td>891669.5</td>\n",
       "      <td>0.9</td>\n",
       "      <td>159.3</td>\n",
       "      <td>3.5</td>\n",
       "    </tr>\n",
       "    <tr>\n",
       "      <th>std</th>\n",
       "      <td>124.0</td>\n",
       "      <td>1217341.5</td>\n",
       "      <td>1.2</td>\n",
       "      <td>163.0</td>\n",
       "      <td>2.1</td>\n",
       "    </tr>\n",
       "    <tr>\n",
       "      <th>min</th>\n",
       "      <td>40.0</td>\n",
       "      <td>34.0</td>\n",
       "      <td>0.0</td>\n",
       "      <td>0.0</td>\n",
       "      <td>0.0</td>\n",
       "    </tr>\n",
       "    <tr>\n",
       "      <th>25%</th>\n",
       "      <td>91.0</td>\n",
       "      <td>62502.0</td>\n",
       "      <td>0.0</td>\n",
       "      <td>18.0</td>\n",
       "      <td>2.0</td>\n",
       "    </tr>\n",
       "    <tr>\n",
       "      <th>50%</th>\n",
       "      <td>104.0</td>\n",
       "      <td>493120.0</td>\n",
       "      <td>0.0</td>\n",
       "      <td>105.0</td>\n",
       "      <td>3.0</td>\n",
       "    </tr>\n",
       "    <tr>\n",
       "      <th>75%</th>\n",
       "      <td>114.5</td>\n",
       "      <td>1080849.6</td>\n",
       "      <td>1.0</td>\n",
       "      <td>282.0</td>\n",
       "      <td>4.0</td>\n",
       "    </tr>\n",
       "    <tr>\n",
       "      <th>max</th>\n",
       "      <td>2015.0</td>\n",
       "      <td>6173099.5</td>\n",
       "      <td>6.0</td>\n",
       "      <td>776.0</td>\n",
       "      <td>16.0</td>\n",
       "    </tr>\n",
       "  </tbody>\n",
       "</table>\n",
       "</div>"
      ],
      "text/plain": [
       "        time  dir_prev_bfnum  dir_prev_num  num_staff  num_actor\n",
       "count  243.0           107.0         243.0      243.0      243.0\n",
       "mean   109.8        891669.5           0.9      159.3        3.5\n",
       "std    124.0       1217341.5           1.2      163.0        2.1\n",
       "min     40.0            34.0           0.0        0.0        0.0\n",
       "25%     91.0         62502.0           0.0       18.0        2.0\n",
       "50%    104.0        493120.0           0.0      105.0        3.0\n",
       "75%    114.5       1080849.6           1.0      282.0        4.0\n",
       "max   2015.0       6173099.5           6.0      776.0       16.0"
      ]
     },
     "execution_count": 16,
     "metadata": {},
     "output_type": "execute_result"
    }
   ],
   "source": [
    "train.describe()"
   ]
  },
  {
   "cell_type": "code",
   "execution_count": 17,
   "id": "6b54ec7c",
   "metadata": {},
   "outputs": [
    {
     "data": {
      "text/html": [
       "<div>\n",
       "<style scoped>\n",
       "    .dataframe tbody tr th:only-of-type {\n",
       "        vertical-align: middle;\n",
       "    }\n",
       "\n",
       "    .dataframe tbody tr th {\n",
       "        vertical-align: top;\n",
       "    }\n",
       "\n",
       "    .dataframe thead th {\n",
       "        text-align: right;\n",
       "    }\n",
       "</style>\n",
       "<table border=\"1\" class=\"dataframe\">\n",
       "  <thead>\n",
       "    <tr style=\"text-align: right;\">\n",
       "      <th></th>\n",
       "      <th>time</th>\n",
       "      <th>dir_prev_bfnum</th>\n",
       "      <th>dir_prev_num</th>\n",
       "      <th>num_staff</th>\n",
       "      <th>num_actor</th>\n",
       "    </tr>\n",
       "  </thead>\n",
       "  <tbody>\n",
       "    <tr>\n",
       "      <th>count</th>\n",
       "      <td>243.0</td>\n",
       "      <td>107.0</td>\n",
       "      <td>243.0</td>\n",
       "      <td>243.0</td>\n",
       "      <td>243.0</td>\n",
       "    </tr>\n",
       "    <tr>\n",
       "      <th>mean</th>\n",
       "      <td>109.8</td>\n",
       "      <td>891669.5</td>\n",
       "      <td>0.9</td>\n",
       "      <td>159.3</td>\n",
       "      <td>3.5</td>\n",
       "    </tr>\n",
       "    <tr>\n",
       "      <th>std</th>\n",
       "      <td>124.0</td>\n",
       "      <td>1217341.5</td>\n",
       "      <td>1.2</td>\n",
       "      <td>163.0</td>\n",
       "      <td>2.1</td>\n",
       "    </tr>\n",
       "    <tr>\n",
       "      <th>min</th>\n",
       "      <td>40.0</td>\n",
       "      <td>34.0</td>\n",
       "      <td>0.0</td>\n",
       "      <td>0.0</td>\n",
       "      <td>0.0</td>\n",
       "    </tr>\n",
       "    <tr>\n",
       "      <th>25%</th>\n",
       "      <td>91.0</td>\n",
       "      <td>62502.0</td>\n",
       "      <td>0.0</td>\n",
       "      <td>18.0</td>\n",
       "      <td>2.0</td>\n",
       "    </tr>\n",
       "    <tr>\n",
       "      <th>50%</th>\n",
       "      <td>104.0</td>\n",
       "      <td>493120.0</td>\n",
       "      <td>0.0</td>\n",
       "      <td>105.0</td>\n",
       "      <td>3.0</td>\n",
       "    </tr>\n",
       "    <tr>\n",
       "      <th>75%</th>\n",
       "      <td>114.5</td>\n",
       "      <td>1080849.6</td>\n",
       "      <td>1.0</td>\n",
       "      <td>282.0</td>\n",
       "      <td>4.0</td>\n",
       "    </tr>\n",
       "    <tr>\n",
       "      <th>max</th>\n",
       "      <td>2015.0</td>\n",
       "      <td>6173099.5</td>\n",
       "      <td>6.0</td>\n",
       "      <td>776.0</td>\n",
       "      <td>16.0</td>\n",
       "    </tr>\n",
       "  </tbody>\n",
       "</table>\n",
       "</div>"
      ],
      "text/plain": [
       "        time  dir_prev_bfnum  dir_prev_num  num_staff  num_actor\n",
       "count  243.0           107.0         243.0      243.0      243.0\n",
       "mean   109.8        891669.5           0.9      159.3        3.5\n",
       "std    124.0       1217341.5           1.2      163.0        2.1\n",
       "min     40.0            34.0           0.0        0.0        0.0\n",
       "25%     91.0         62502.0           0.0       18.0        2.0\n",
       "50%    104.0        493120.0           0.0      105.0        3.0\n",
       "75%    114.5       1080849.6           1.0      282.0        4.0\n",
       "max   2015.0       6173099.5           6.0      776.0       16.0"
      ]
     },
     "execution_count": 17,
     "metadata": {},
     "output_type": "execute_result"
    }
   ],
   "source": [
    "test.describe()"
   ]
  },
  {
   "cell_type": "markdown",
   "id": "261ac1e8",
   "metadata": {},
   "source": [
    "# 4) 결측치 확인, 전처리"
   ]
  },
  {
   "cell_type": "code",
   "execution_count": 74,
   "id": "fe1b8b06",
   "metadata": {},
   "outputs": [
    {
     "data": {
      "text/plain": [
       "title               0\n",
       "distributor         0\n",
       "genre               0\n",
       "release_time        0\n",
       "time                0\n",
       "screening_rat       0\n",
       "director            0\n",
       "dir_prev_bfnum    330\n",
       "dir_prev_num        0\n",
       "num_staff           0\n",
       "num_actor           0\n",
       "box_off_num         0\n",
       "dtype: int64"
      ]
     },
     "execution_count": 74,
     "metadata": {},
     "output_type": "execute_result"
    }
   ],
   "source": [
    "train.isna().sum()"
   ]
  },
  {
   "cell_type": "code",
   "execution_count": 75,
   "id": "9b68a8af",
   "metadata": {},
   "outputs": [
    {
     "data": {
      "text/plain": [
       "title               0\n",
       "distributor         0\n",
       "genre               0\n",
       "release_time        0\n",
       "time                0\n",
       "screening_rat       0\n",
       "director            0\n",
       "dir_prev_bfnum    136\n",
       "dir_prev_num        0\n",
       "num_staff           0\n",
       "num_actor           0\n",
       "dtype: int64"
      ]
     },
     "execution_count": 75,
     "metadata": {},
     "output_type": "execute_result"
    }
   ],
   "source": [
    "test.isna().sum()"
   ]
  },
  {
   "cell_type": "code",
   "execution_count": 76,
   "id": "b9b3ce25",
   "metadata": {},
   "outputs": [
    {
     "data": {
      "text/plain": [
       "title          0\n",
       "box_off_num    0\n",
       "dtype: int64"
      ]
     },
     "execution_count": 76,
     "metadata": {},
     "output_type": "execute_result"
    }
   ],
   "source": [
    "submission.isna().sum()"
   ]
  },
  {
   "cell_type": "code",
   "execution_count": 77,
   "id": "307b4a94",
   "metadata": {},
   "outputs": [],
   "source": [
    "#결측값 확인"
   ]
  },
  {
   "cell_type": "code",
   "execution_count": 78,
   "id": "dcb0c699",
   "metadata": {},
   "outputs": [
    {
     "data": {
      "text/html": [
       "<div>\n",
       "<style scoped>\n",
       "    .dataframe tbody tr th:only-of-type {\n",
       "        vertical-align: middle;\n",
       "    }\n",
       "\n",
       "    .dataframe tbody tr th {\n",
       "        vertical-align: top;\n",
       "    }\n",
       "\n",
       "    .dataframe thead th {\n",
       "        text-align: right;\n",
       "    }\n",
       "</style>\n",
       "<table border=\"1\" class=\"dataframe\">\n",
       "  <thead>\n",
       "    <tr style=\"text-align: right;\">\n",
       "      <th></th>\n",
       "      <th>title</th>\n",
       "      <th>distributor</th>\n",
       "      <th>genre</th>\n",
       "      <th>release_time</th>\n",
       "      <th>time</th>\n",
       "      <th>screening_rat</th>\n",
       "      <th>director</th>\n",
       "      <th>dir_prev_bfnum</th>\n",
       "      <th>dir_prev_num</th>\n",
       "      <th>num_staff</th>\n",
       "      <th>num_actor</th>\n",
       "      <th>box_off_num</th>\n",
       "    </tr>\n",
       "  </thead>\n",
       "  <tbody>\n",
       "    <tr>\n",
       "      <th>0</th>\n",
       "      <td>개들의 전쟁</td>\n",
       "      <td>롯데엔터테인먼트</td>\n",
       "      <td>액션</td>\n",
       "      <td>2012-11-22</td>\n",
       "      <td>96</td>\n",
       "      <td>청소년 관람불가</td>\n",
       "      <td>조병옥</td>\n",
       "      <td>NaN</td>\n",
       "      <td>0</td>\n",
       "      <td>91</td>\n",
       "      <td>2</td>\n",
       "      <td>23398</td>\n",
       "    </tr>\n",
       "    <tr>\n",
       "      <th>6</th>\n",
       "      <td>길위에서</td>\n",
       "      <td>백두대간</td>\n",
       "      <td>다큐멘터리</td>\n",
       "      <td>2013-05-23</td>\n",
       "      <td>104</td>\n",
       "      <td>전체 관람가</td>\n",
       "      <td>이창재</td>\n",
       "      <td>NaN</td>\n",
       "      <td>0</td>\n",
       "      <td>32</td>\n",
       "      <td>5</td>\n",
       "      <td>53526</td>\n",
       "    </tr>\n",
       "    <tr>\n",
       "      <th>8</th>\n",
       "      <td>1789, 바스티유의 연인들</td>\n",
       "      <td>유니버설픽쳐스인터내셔널코리아</td>\n",
       "      <td>뮤지컬</td>\n",
       "      <td>2014-09-18</td>\n",
       "      <td>129</td>\n",
       "      <td>전체 관람가</td>\n",
       "      <td>정성복</td>\n",
       "      <td>NaN</td>\n",
       "      <td>0</td>\n",
       "      <td>3</td>\n",
       "      <td>5</td>\n",
       "      <td>4778</td>\n",
       "    </tr>\n",
       "    <tr>\n",
       "      <th>9</th>\n",
       "      <td>청춘그루브</td>\n",
       "      <td>(주)두타연</td>\n",
       "      <td>드라마</td>\n",
       "      <td>2012-03-15</td>\n",
       "      <td>94</td>\n",
       "      <td>15세 관람가</td>\n",
       "      <td>변성현</td>\n",
       "      <td>NaN</td>\n",
       "      <td>0</td>\n",
       "      <td>138</td>\n",
       "      <td>3</td>\n",
       "      <td>868</td>\n",
       "    </tr>\n",
       "    <tr>\n",
       "      <th>10</th>\n",
       "      <td>AV 아이돌</td>\n",
       "      <td>(주) 케이알씨지</td>\n",
       "      <td>멜로/로맨스</td>\n",
       "      <td>2015-07-27</td>\n",
       "      <td>89</td>\n",
       "      <td>청소년 관람불가</td>\n",
       "      <td>조조 히데오</td>\n",
       "      <td>NaN</td>\n",
       "      <td>0</td>\n",
       "      <td>0</td>\n",
       "      <td>4</td>\n",
       "      <td>745</td>\n",
       "    </tr>\n",
       "  </tbody>\n",
       "</table>\n",
       "</div>"
      ],
      "text/plain": [
       "              title      distributor   genre release_time  time screening_rat  \\\n",
       "0            개들의 전쟁         롯데엔터테인먼트      액션   2012-11-22    96      청소년 관람불가   \n",
       "6              길위에서             백두대간   다큐멘터리   2013-05-23   104        전체 관람가   \n",
       "8   1789, 바스티유의 연인들  유니버설픽쳐스인터내셔널코리아     뮤지컬   2014-09-18   129        전체 관람가   \n",
       "9             청춘그루브           (주)두타연     드라마   2012-03-15    94       15세 관람가   \n",
       "10           AV 아이돌        (주) 케이알씨지  멜로/로맨스   2015-07-27    89      청소년 관람불가   \n",
       "\n",
       "   director  dir_prev_bfnum  dir_prev_num  num_staff  num_actor  box_off_num  \n",
       "0       조병옥             NaN             0         91          2        23398  \n",
       "6       이창재             NaN             0         32          5        53526  \n",
       "8       정성복             NaN             0          3          5         4778  \n",
       "9       변성현             NaN             0        138          3          868  \n",
       "10   조조 히데오             NaN             0          0          4          745  "
      ]
     },
     "execution_count": 78,
     "metadata": {},
     "output_type": "execute_result"
    }
   ],
   "source": [
    "train[train['dir_prev_bfnum'].isna()].head()"
   ]
  },
  {
   "cell_type": "code",
   "execution_count": 79,
   "id": "46696733",
   "metadata": {},
   "outputs": [
    {
     "data": {
      "text/html": [
       "<div>\n",
       "<style scoped>\n",
       "    .dataframe tbody tr th:only-of-type {\n",
       "        vertical-align: middle;\n",
       "    }\n",
       "\n",
       "    .dataframe tbody tr th {\n",
       "        vertical-align: top;\n",
       "    }\n",
       "\n",
       "    .dataframe thead th {\n",
       "        text-align: right;\n",
       "    }\n",
       "</style>\n",
       "<table border=\"1\" class=\"dataframe\">\n",
       "  <thead>\n",
       "    <tr style=\"text-align: right;\">\n",
       "      <th></th>\n",
       "      <th>title</th>\n",
       "      <th>distributor</th>\n",
       "      <th>genre</th>\n",
       "      <th>release_time</th>\n",
       "      <th>time</th>\n",
       "      <th>screening_rat</th>\n",
       "      <th>director</th>\n",
       "      <th>dir_prev_bfnum</th>\n",
       "      <th>dir_prev_num</th>\n",
       "      <th>num_staff</th>\n",
       "      <th>num_actor</th>\n",
       "    </tr>\n",
       "  </thead>\n",
       "  <tbody>\n",
       "    <tr>\n",
       "      <th>5</th>\n",
       "      <td>회오리 바람</td>\n",
       "      <td>모쿠슈라</td>\n",
       "      <td>드라마</td>\n",
       "      <td>2010-02-25</td>\n",
       "      <td>95</td>\n",
       "      <td>15세 관람가</td>\n",
       "      <td>장건재</td>\n",
       "      <td>NaN</td>\n",
       "      <td>0</td>\n",
       "      <td>156</td>\n",
       "      <td>2</td>\n",
       "    </tr>\n",
       "    <tr>\n",
       "      <th>6</th>\n",
       "      <td>경계도시 2</td>\n",
       "      <td>시네마 달</td>\n",
       "      <td>다큐멘터리</td>\n",
       "      <td>2010-03-18</td>\n",
       "      <td>104</td>\n",
       "      <td>15세 관람가</td>\n",
       "      <td>홍형숙</td>\n",
       "      <td>NaN</td>\n",
       "      <td>0</td>\n",
       "      <td>11</td>\n",
       "      <td>2</td>\n",
       "    </tr>\n",
       "    <tr>\n",
       "      <th>7</th>\n",
       "      <td>이웃집 남자</td>\n",
       "      <td>(주)루믹스미디어</td>\n",
       "      <td>드라마</td>\n",
       "      <td>2010-03-18</td>\n",
       "      <td>100</td>\n",
       "      <td>청소년 관람불가</td>\n",
       "      <td>장동홍</td>\n",
       "      <td>NaN</td>\n",
       "      <td>0</td>\n",
       "      <td>117</td>\n",
       "      <td>5</td>\n",
       "    </tr>\n",
       "    <tr>\n",
       "      <th>8</th>\n",
       "      <td>아마존의 눈물 극장판</td>\n",
       "      <td>마운틴픽쳐스</td>\n",
       "      <td>다큐멘터리</td>\n",
       "      <td>2010-03-25</td>\n",
       "      <td>88</td>\n",
       "      <td>15세 관람가</td>\n",
       "      <td>김진만</td>\n",
       "      <td>NaN</td>\n",
       "      <td>0</td>\n",
       "      <td>76</td>\n",
       "      <td>1</td>\n",
       "    </tr>\n",
       "    <tr>\n",
       "      <th>9</th>\n",
       "      <td>반가운 살인자</td>\n",
       "      <td>롯데쇼핑(주)롯데엔터테인먼트</td>\n",
       "      <td>코미디</td>\n",
       "      <td>2010-04-08</td>\n",
       "      <td>107</td>\n",
       "      <td>15세 관람가</td>\n",
       "      <td>김동욱</td>\n",
       "      <td>NaN</td>\n",
       "      <td>0</td>\n",
       "      <td>255</td>\n",
       "      <td>3</td>\n",
       "    </tr>\n",
       "  </tbody>\n",
       "</table>\n",
       "</div>"
      ],
      "text/plain": [
       "         title      distributor  genre release_time  time screening_rat  \\\n",
       "5       회오리 바람             모쿠슈라    드라마   2010-02-25    95       15세 관람가   \n",
       "6       경계도시 2            시네마 달  다큐멘터리   2010-03-18   104       15세 관람가   \n",
       "7       이웃집 남자        (주)루믹스미디어    드라마   2010-03-18   100      청소년 관람불가   \n",
       "8  아마존의 눈물 극장판           마운틴픽쳐스  다큐멘터리   2010-03-25    88       15세 관람가   \n",
       "9      반가운 살인자  롯데쇼핑(주)롯데엔터테인먼트    코미디   2010-04-08   107       15세 관람가   \n",
       "\n",
       "  director  dir_prev_bfnum  dir_prev_num  num_staff  num_actor  \n",
       "5      장건재             NaN             0        156          2  \n",
       "6      홍형숙             NaN             0         11          2  \n",
       "7      장동홍             NaN             0        117          5  \n",
       "8      김진만             NaN             0         76          1  \n",
       "9      김동욱             NaN             0        255          3  "
      ]
     },
     "execution_count": 79,
     "metadata": {},
     "output_type": "execute_result"
    }
   ],
   "source": [
    "test[test['dir_prev_bfnum'].isna()].head()"
   ]
  },
  {
   "cell_type": "code",
   "execution_count": 80,
   "id": "b4d3a6e1",
   "metadata": {},
   "outputs": [],
   "source": [
    "#Nan을 전부 0으로 바꿔준다.\n",
    "train['dir_prev_bfnum'].fillna(0,inplace=True)"
   ]
  },
  {
   "cell_type": "code",
   "execution_count": 81,
   "id": "0600c928",
   "metadata": {},
   "outputs": [],
   "source": [
    "#release time이 object로 인식되고 있기 때문에, 날짜형으로 바꿔준다.\n",
    "train['release_time']=pd.to_datetime(train['release_time'])"
   ]
  },
  {
   "cell_type": "code",
   "execution_count": 82,
   "id": "4a2408e6",
   "metadata": {},
   "outputs": [],
   "source": [
    "#배급사 전처리\n",
    "train['distributor'] = train.distributor.str.replace(\"(주)\", '')\n",
    "test['distributor'] = test.distributor.str.replace(\"(주)\", '')"
   ]
  },
  {
   "cell_type": "code",
   "execution_count": 83,
   "id": "735a8fc4",
   "metadata": {},
   "outputs": [],
   "source": [
    "train['distributor'] = [re.sub(r'[^0-9a-zA-Z가-힣]', '', x) for x in train.distributor]\n",
    "test['distributor'] = [re.sub(r'[^0-9a-zA-Z가-힣]', '', x) for x in test.distributor]"
   ]
  },
  {
   "cell_type": "code",
   "execution_count": 84,
   "id": "6d24347c",
   "metadata": {},
   "outputs": [],
   "source": [
    "def get_dis(x) :\n",
    "    if 'CJ' in x or 'CGV' in x :\n",
    "        return 'CJ'\n",
    "    elif '쇼박스' in x :\n",
    "        return '쇼박스'\n",
    "    elif 'SK' in x :\n",
    "        return 'SK'\n",
    "    elif '리틀빅픽' in x :\n",
    "        return '리틀빅픽처스'\n",
    "    elif '스폰지' in x :\n",
    "        return '스폰지'\n",
    "    elif '싸이더스' in x :\n",
    "        return '싸이더스'\n",
    "    elif '에이원' in x :\n",
    "        return '에이원'\n",
    "    elif '마인스' in x :\n",
    "        return '마인스'\n",
    "    elif '마운틴픽' in x :\n",
    "        return '마운틴픽처스'\n",
    "    elif '디씨드' in x :\n",
    "        return '디씨드'\n",
    "    elif '드림팩트' in x :\n",
    "        return '드림팩트'\n",
    "    elif '메가박스' in x :\n",
    "        return '메가박스'\n",
    "    elif '마운틴' in x :\n",
    "        return '마운틴'\n",
    "    else :\n",
    "        return x"
   ]
  },
  {
   "cell_type": "code",
   "execution_count": 85,
   "id": "17681ec3",
   "metadata": {},
   "outputs": [],
   "source": [
    "train['distributor'] = train.distributor.apply(get_dis)\n",
    "test['distributor'] = test.distributor.apply(get_dis)"
   ]
  },
  {
   "cell_type": "code",
   "execution_count": 86,
   "id": "da038967",
   "metadata": {},
   "outputs": [
    {
     "data": {
      "text/plain": [
       "genre\n",
       "뮤지컬         6627.0\n",
       "다큐멘터리      67172.3\n",
       "서스펜스       82611.0\n",
       "애니메이션     181926.7\n",
       "멜로/로맨스    425968.0\n",
       "미스터리      527548.2\n",
       "공포        590832.5\n",
       "드라마       625689.8\n",
       "코미디      1193914.0\n",
       "SF       1788345.7\n",
       "액션       2203974.1\n",
       "느와르      2263695.1\n",
       "Name: box_off_num, dtype: float64"
      ]
     },
     "execution_count": 86,
     "metadata": {},
     "output_type": "execute_result"
    }
   ],
   "source": [
    "#rank 정리\n",
    "train.groupby('genre').box_off_num.mean().sort_values()"
   ]
  },
  {
   "cell_type": "code",
   "execution_count": 87,
   "id": "b4919d15",
   "metadata": {},
   "outputs": [],
   "source": [
    "train['genre_rank'] = train.genre.map({'뮤지컬' : 1, '다큐멘터리' : 2, '서스펜스' : 3, '애니메이션' : 4, '멜로/로맨스' : 5,\n",
    "                                      '미스터리' : 6, '공포' : 7, '드라마' : 8, '코미디' : 9, 'SF' : 10, '액션' : 11, '느와르' : 12})\n",
    "test['genre_rank'] = test.genre.map({'뮤지컬' : 1, '다큐멘터리' : 2, '서스펜스' : 3, '애니메이션' : 4, '멜로/로맨스' : 5,\n",
    "                                      '미스터리' : 6, '공포' : 7, '드라마' : 8, '코미디' : 9, 'SF' : 10, '액션' : 11, '느와르' : 12})"
   ]
  },
  {
   "cell_type": "code",
   "execution_count": 88,
   "id": "6291a84f",
   "metadata": {},
   "outputs": [
    {
     "data": {
      "text/html": [
       "<div>\n",
       "<style scoped>\n",
       "    .dataframe tbody tr th:only-of-type {\n",
       "        vertical-align: middle;\n",
       "    }\n",
       "\n",
       "    .dataframe tbody tr th {\n",
       "        vertical-align: top;\n",
       "    }\n",
       "\n",
       "    .dataframe thead th {\n",
       "        text-align: right;\n",
       "    }\n",
       "</style>\n",
       "<table border=\"1\" class=\"dataframe\">\n",
       "  <thead>\n",
       "    <tr style=\"text-align: right;\">\n",
       "      <th></th>\n",
       "      <th>distributor</th>\n",
       "      <th>num_rank</th>\n",
       "    </tr>\n",
       "  </thead>\n",
       "  <tbody>\n",
       "    <tr>\n",
       "      <th>110</th>\n",
       "      <td>인피니티엔터테인먼트</td>\n",
       "      <td>2.0</td>\n",
       "    </tr>\n",
       "    <tr>\n",
       "      <th>15</th>\n",
       "      <td>고구마공작소</td>\n",
       "      <td>8.0</td>\n",
       "    </tr>\n",
       "    <tr>\n",
       "      <th>52</th>\n",
       "      <td>사람과사람들</td>\n",
       "      <td>42.0</td>\n",
       "    </tr>\n",
       "    <tr>\n",
       "      <th>97</th>\n",
       "      <td>위드시네마</td>\n",
       "      <td>46.0</td>\n",
       "    </tr>\n",
       "    <tr>\n",
       "      <th>19</th>\n",
       "      <td>나우콘텐츠</td>\n",
       "      <td>54.0</td>\n",
       "    </tr>\n",
       "    <tr>\n",
       "      <th>...</th>\n",
       "      <td>...</td>\n",
       "      <td>...</td>\n",
       "    </tr>\n",
       "    <tr>\n",
       "      <th>113</th>\n",
       "      <td>전망좋은영화사</td>\n",
       "      <td>1214237.0</td>\n",
       "    </tr>\n",
       "    <tr>\n",
       "      <th>105</th>\n",
       "      <td>이십세기폭스코리아</td>\n",
       "      <td>1422844.0</td>\n",
       "    </tr>\n",
       "    <tr>\n",
       "      <th>56</th>\n",
       "      <td>쇼박스</td>\n",
       "      <td>2138560.0</td>\n",
       "    </tr>\n",
       "    <tr>\n",
       "      <th>84</th>\n",
       "      <td>영구아트무비</td>\n",
       "      <td>2541603.0</td>\n",
       "    </tr>\n",
       "    <tr>\n",
       "      <th>75</th>\n",
       "      <td>아이필름코퍼레이션</td>\n",
       "      <td>3117859.0</td>\n",
       "    </tr>\n",
       "  </tbody>\n",
       "</table>\n",
       "<p>147 rows × 2 columns</p>\n",
       "</div>"
      ],
      "text/plain": [
       "    distributor  num_rank\n",
       "110  인피니티엔터테인먼트       2.0\n",
       "15       고구마공작소       8.0\n",
       "52       사람과사람들      42.0\n",
       "97        위드시네마      46.0\n",
       "19        나우콘텐츠      54.0\n",
       "..          ...       ...\n",
       "113     전망좋은영화사 1214237.0\n",
       "105   이십세기폭스코리아 1422844.0\n",
       "56          쇼박스 2138560.0\n",
       "84       영구아트무비 2541603.0\n",
       "75    아이필름코퍼레이션 3117859.0\n",
       "\n",
       "[147 rows x 2 columns]"
      ]
     },
     "execution_count": 88,
     "metadata": {},
     "output_type": "execute_result"
    }
   ],
   "source": [
    "tr_nm_rank = train.groupby('distributor').box_off_num.median().reset_index(name = 'num_rank').sort_values(by = 'num_rank')\n",
    "tr_nm_rank"
   ]
  },
  {
   "cell_type": "code",
   "execution_count": 89,
   "id": "a225474f",
   "metadata": {},
   "outputs": [],
   "source": [
    "tr_nm_rank['num_rank'] = [i + 1 for i in range(tr_nm_rank.shape[0])]"
   ]
  },
  {
   "cell_type": "code",
   "execution_count": 90,
   "id": "f7c5aa67",
   "metadata": {},
   "outputs": [
    {
     "data": {
      "text/html": [
       "<div>\n",
       "<style scoped>\n",
       "    .dataframe tbody tr th:only-of-type {\n",
       "        vertical-align: middle;\n",
       "    }\n",
       "\n",
       "    .dataframe tbody tr th {\n",
       "        vertical-align: top;\n",
       "    }\n",
       "\n",
       "    .dataframe thead th {\n",
       "        text-align: right;\n",
       "    }\n",
       "</style>\n",
       "<table border=\"1\" class=\"dataframe\">\n",
       "  <thead>\n",
       "    <tr style=\"text-align: right;\">\n",
       "      <th></th>\n",
       "      <th>distributor</th>\n",
       "      <th>num_rank</th>\n",
       "    </tr>\n",
       "  </thead>\n",
       "  <tbody>\n",
       "    <tr>\n",
       "      <th>110</th>\n",
       "      <td>인피니티엔터테인먼트</td>\n",
       "      <td>1</td>\n",
       "    </tr>\n",
       "    <tr>\n",
       "      <th>15</th>\n",
       "      <td>고구마공작소</td>\n",
       "      <td>2</td>\n",
       "    </tr>\n",
       "    <tr>\n",
       "      <th>52</th>\n",
       "      <td>사람과사람들</td>\n",
       "      <td>3</td>\n",
       "    </tr>\n",
       "    <tr>\n",
       "      <th>97</th>\n",
       "      <td>위드시네마</td>\n",
       "      <td>4</td>\n",
       "    </tr>\n",
       "    <tr>\n",
       "      <th>19</th>\n",
       "      <td>나우콘텐츠</td>\n",
       "      <td>5</td>\n",
       "    </tr>\n",
       "    <tr>\n",
       "      <th>...</th>\n",
       "      <td>...</td>\n",
       "      <td>...</td>\n",
       "    </tr>\n",
       "    <tr>\n",
       "      <th>113</th>\n",
       "      <td>전망좋은영화사</td>\n",
       "      <td>143</td>\n",
       "    </tr>\n",
       "    <tr>\n",
       "      <th>105</th>\n",
       "      <td>이십세기폭스코리아</td>\n",
       "      <td>144</td>\n",
       "    </tr>\n",
       "    <tr>\n",
       "      <th>56</th>\n",
       "      <td>쇼박스</td>\n",
       "      <td>145</td>\n",
       "    </tr>\n",
       "    <tr>\n",
       "      <th>84</th>\n",
       "      <td>영구아트무비</td>\n",
       "      <td>146</td>\n",
       "    </tr>\n",
       "    <tr>\n",
       "      <th>75</th>\n",
       "      <td>아이필름코퍼레이션</td>\n",
       "      <td>147</td>\n",
       "    </tr>\n",
       "  </tbody>\n",
       "</table>\n",
       "<p>147 rows × 2 columns</p>\n",
       "</div>"
      ],
      "text/plain": [
       "    distributor  num_rank\n",
       "110  인피니티엔터테인먼트         1\n",
       "15       고구마공작소         2\n",
       "52       사람과사람들         3\n",
       "97        위드시네마         4\n",
       "19        나우콘텐츠         5\n",
       "..          ...       ...\n",
       "113     전망좋은영화사       143\n",
       "105   이십세기폭스코리아       144\n",
       "56          쇼박스       145\n",
       "84       영구아트무비       146\n",
       "75    아이필름코퍼레이션       147\n",
       "\n",
       "[147 rows x 2 columns]"
      ]
     },
     "execution_count": 90,
     "metadata": {},
     "output_type": "execute_result"
    }
   ],
   "source": [
    "tr_nm_rank"
   ]
  },
  {
   "cell_type": "code",
   "execution_count": 91,
   "id": "bf6392f7",
   "metadata": {},
   "outputs": [],
   "source": [
    "train = pd.merge(train, tr_nm_rank, how = 'left')\n",
    "test = pd.merge(test, tr_nm_rank, how = 'left')\n",
    "test.fillna(0, inplace = True)"
   ]
  },
  {
   "cell_type": "markdown",
   "id": "30b0c136",
   "metadata": {},
   "source": [
    "# 5) 모델링하기"
   ]
  },
  {
   "cell_type": "code",
   "execution_count": 43,
   "id": "341bb4d1",
   "metadata": {},
   "outputs": [],
   "source": [
    "from sklearn.ensemble import GradientBoostingRegressor, RandomForestRegressor\n",
    "from xgboost import XGBRegressor\n",
    "from lightgbm import LGBMRegressor\n",
    "from sklearn.metrics import mean_squared_error\n",
    "from sklearn.model_selection import KFold"
   ]
  },
  {
   "cell_type": "code",
   "execution_count": 92,
   "id": "74064740",
   "metadata": {},
   "outputs": [],
   "source": [
    "#모델링 데이터 구성하기\n",
    "X = train[['num_rank', 'time', 'num_staff', 'num_actor', 'genre_rank', 'screening_rat']]\n",
    "y = np.log1p(train.box_off_num)"
   ]
  },
  {
   "cell_type": "code",
   "execution_count": 93,
   "id": "2edc67e4",
   "metadata": {},
   "outputs": [],
   "source": [
    "X = pd.get_dummies(columns = ['screening_rat'], data = X)"
   ]
  },
  {
   "cell_type": "code",
   "execution_count": 94,
   "id": "16316e51",
   "metadata": {},
   "outputs": [],
   "source": [
    "X['num_actor'] = np.log1p(X['num_actor'])"
   ]
  },
  {
   "cell_type": "code",
   "execution_count": 95,
   "id": "73a2b2b5",
   "metadata": {},
   "outputs": [],
   "source": [
    "target = test[['num_rank', 'time', 'num_staff', 'num_actor', 'genre_rank', 'screening_rat']]"
   ]
  },
  {
   "cell_type": "code",
   "execution_count": 96,
   "id": "6a1677e6",
   "metadata": {},
   "outputs": [],
   "source": [
    "target = pd.get_dummies(columns = ['screening_rat'], data = target)\n",
    "\n",
    "target['num_actor'] = np.log1p(target['num_actor'])"
   ]
  },
  {
   "cell_type": "code",
   "execution_count": 97,
   "id": "cd6085cd",
   "metadata": {},
   "outputs": [],
   "source": [
    "#교차 검증\n",
    "kf = KFold(n_splits =  10, shuffle = True, random_state = 42)"
   ]
  },
  {
   "cell_type": "markdown",
   "id": "c5030721",
   "metadata": {},
   "source": [
    "# 1) GradientBoostingRegressor"
   ]
  },
  {
   "cell_type": "code",
   "execution_count": 98,
   "id": "cbd22b1c",
   "metadata": {},
   "outputs": [
    {
     "data": {
      "text/plain": [
       "1174378.9765191542"
      ]
     },
     "execution_count": 98,
     "metadata": {},
     "output_type": "execute_result"
    }
   ],
   "source": [
    "gbm = GradientBoostingRegressor(random_state = 42)\n",
    "\n",
    "rmse_list = []\n",
    "gb_pred = np.zeros((test.shape[0]))\n",
    "for tr_idx, val_idx in kf.split(X, y) :\n",
    "    tr_x, tr_y = X.iloc[tr_idx], y.iloc[tr_idx]\n",
    "    val_x, val_y = X.iloc[val_idx], y.iloc[val_idx]\n",
    "    \n",
    "    gbm.fit(tr_x, tr_y)\n",
    "    \n",
    "    pred = np.expm1([0 if x < 0 else x for x in gbm.predict(val_x)])\n",
    "    sub_pred = np.expm1([0 if x < 0 else x for x in gbm.predict(target)])\n",
    "    rmse = np.sqrt(mean_squared_error(val_y, pred))\n",
    "    \n",
    "    rmse_list.append(rmse)\n",
    "    \n",
    "    gb_pred += (sub_pred / 10)\n",
    "\n",
    "np.mean(rmse_list)"
   ]
  },
  {
   "cell_type": "markdown",
   "id": "774f57a3",
   "metadata": {},
   "source": [
    "# 2) LGBM Regressor"
   ]
  },
  {
   "cell_type": "code",
   "execution_count": 100,
   "id": "4c21cff0",
   "metadata": {},
   "outputs": [
    {
     "data": {
      "text/plain": [
       "1213815.0440528719"
      ]
     },
     "execution_count": 100,
     "metadata": {},
     "output_type": "execute_result"
    }
   ],
   "source": [
    "lgbm = LGBMRegressor(random_state = 518)\n",
    "\n",
    "rmse_list = []\n",
    "lgb_pred = np.zeros((test.shape[0]))\n",
    "for tr_idx, val_idx in kf.split(X, y) :\n",
    "    tr_x, tr_y = X.iloc[tr_idx], y.iloc[tr_idx]\n",
    "    val_x, val_y = X.iloc[val_idx], y.iloc[val_idx]\n",
    "    \n",
    "    lgbm.fit(tr_x, tr_y)\n",
    "    \n",
    "    pred = np.expm1([0 if x < 0 else x for x in lgbm.predict(val_x)])\n",
    "    sub_pred = np.expm1([0 if x < 0 else x for x in lgbm.predict(target)])\n",
    "    rmse = np.sqrt(mean_squared_error(val_y, pred))\n",
    "    \n",
    "    rmse_list.append(rmse)\n",
    "    \n",
    "    lgb_pred += (sub_pred / 10)\n",
    "\n",
    "np.mean(rmse_list)"
   ]
  },
  {
   "cell_type": "markdown",
   "id": "a7063fcb",
   "metadata": {},
   "source": [
    "# 3)RandomForest"
   ]
  },
  {
   "cell_type": "code",
   "execution_count": 101,
   "id": "8ade03d8",
   "metadata": {},
   "outputs": [
    {
     "data": {
      "text/plain": [
       "872738.262092494"
      ]
     },
     "execution_count": 101,
     "metadata": {},
     "output_type": "execute_result"
    }
   ],
   "source": [
    "rf = RandomForestRegressor(random_state = 518)\n",
    "\n",
    "rmse_list = []\n",
    "rf_pred = np.zeros((test.shape[0]))\n",
    "for tr_idx, val_idx in kf.split(X, y) :\n",
    "    tr_x, tr_y = X.iloc[tr_idx], y.iloc[tr_idx]\n",
    "    val_x, val_y = X.iloc[val_idx], y.iloc[val_idx]\n",
    "    \n",
    "    rf.fit(tr_x, tr_y)\n",
    "    \n",
    "    pred = np.expm1([0 if x < 0 else x for x in rf.predict(val_x)])\n",
    "    sub_pred = np.expm1([0 if x < 0 else x for x in rf.predict(target)])\n",
    "    rmse = np.sqrt(mean_squared_error(val_y, pred))\n",
    "    \n",
    "    rmse_list.append(rmse)\n",
    "    \n",
    "    rf_pred += (sub_pred / 10)\n",
    "\n",
    "np.mean(rmse_list)"
   ]
  },
  {
   "cell_type": "code",
   "execution_count": null,
   "id": "6c78f90e",
   "metadata": {},
   "outputs": [],
   "source": []
  }
 ],
 "metadata": {
  "kernelspec": {
   "display_name": "Python 3",
   "language": "python",
   "name": "python3"
  },
  "language_info": {
   "codemirror_mode": {
    "name": "ipython",
    "version": 3
   },
   "file_extension": ".py",
   "mimetype": "text/x-python",
   "name": "python",
   "nbconvert_exporter": "python",
   "pygments_lexer": "ipython3",
   "version": "3.8.8"
  }
 },
 "nbformat": 4,
 "nbformat_minor": 5
}
